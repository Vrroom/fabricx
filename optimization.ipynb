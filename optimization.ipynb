{
 "cells": [
  {
   "cell_type": "code",
   "execution_count": 1,
   "metadata": {},
   "outputs": [],
   "source": [
    "from matplotlib import pyplot as plt\n",
    "from PIL import Image\n",
    "import numpy as np\n",
    "from tqdm import tqdm\n",
    "\n",
    "import sys\n",
    "sys.path.insert(0, '/home/mx85/Github/mitsuba3/build_stable/python')\n",
    "sys.path.append('/home/mx85/Github/PyPackages')\n",
    "\n",
    "import drjit as dr\n",
    "import mitsuba as mi\n",
    "\n",
    "mi.set_variant('cuda_ad_rgb')\n",
    "\n",
    "\n",
    "from mitsuba import ScalarTransform4f as T\n",
    "from bsdf import * \n",
    "from solid_texture_bsdf import * \n",
    "from spongecake_bsdf import * \n",
    "from utils import * "
   ]
  },
  {
   "cell_type": "markdown",
   "metadata": {},
   "source": []
  },
  {
   "cell_type": "code",
   "execution_count": 2,
   "metadata": {},
   "outputs": [],
   "source": [
    "cls_name = globals()['SurfaceBased']\n",
    "feature_map_type = 'cloth'\n",
    "cloth_type = 'plain_gap0075'\n",
    "texture = 'id_map_lightblue.png'\n",
    "mi.register_bsdf('spongecake_bsdf', lambda props: cls_name(props, \\\n",
    "        feature_map_type=feature_map_type, cloth_type = cloth_type, texture=texture, \\\n",
    "        delta_transmission=True))"
   ]
  },
  {
   "cell_type": "code",
   "execution_count": 3,
   "metadata": {},
   "outputs": [],
   "source": [
    "# import scene and generate reference image\n",
    "scene = mi.load_file('cloth/cloth_scene.xml')\n",
    "params = mi.traverse(scene)\n",
    "\n",
    "fiber = True\n",
    "alpha = 0.3\n",
    "optical_depth = 2.0\n",
    "tiles = 128\n",
    "specular_prob = 0.5\n",
    "\n",
    "# # set other parameters\n",
    "# params['bsdf-matpreview.surface_or_fiber'] = mi.Bool(fiber)\n",
    "# params['bsdf-matpreview.alpha'] = mi.Float(alpha)\n",
    "# params['bsdf-matpreview.optical_depth'] = mi.Float(optical_depth)\n",
    "# params['bsdf-matpreview.tiles'] = mi.Float(tiles)\n",
    "# params['bsdf-matpreview.specular_prob'] = mi.Float(specular_prob)\n",
    "# params.update()\n",
    "# print(\"params\", params)"
   ]
  },
  {
   "cell_type": "code",
   "execution_count": 4,
   "metadata": {},
   "outputs": [
    {
     "name": "stdout",
     "output_type": "stream",
     "text": [
      "params SceneParameters[\n",
      "  ----------------------------------------------------------------------------------------\n",
      "  Name                                 Flags    Type           Parent\n",
      "  ----------------------------------------------------------------------------------------\n",
      "  bsdf-matpreview.base_color.value     ∂        Color3f        SRGBReflectanceSpectrum\n",
      "  bsdf-matpreview.alpha                ∂        Float          BSDF\n",
      "  bsdf-matpreview.optical_depth        ∂        Float          BSDF\n",
      "  bsdf-matpreview.tiles                ∂        Float          BSDF\n",
      "  bsdf-matpreview.specular_prob        ∂        Float          BSDF\n",
      "  bsdf-matpreview.surface_or_fiber              Bool           BSDF\n",
      "  emitter-envmap.sampling_weight                float          EnvironmentMapEmitter\n",
      "  emitter-envmap.scale                 ∂        Float          EnvironmentMapEmitter\n",
      "  emitter-envmap.data                  ∂, D     TensorXf       EnvironmentMapEmitter\n",
      "  emitter-envmap.to_world                       Transform4f    EnvironmentMapEmitter\n",
      "  elm__2.near_clip                              float          PerspectiveCamera\n",
      "  elm__2.far_clip                               float          PerspectiveCamera\n",
      "  elm__2.shutter_open                           float          PerspectiveCamera\n",
      "  elm__2.shutter_open_time                      float          PerspectiveCamera\n",
      "  elm__2.film.size                              ScalarVector2u HDRFilm\n",
      "  elm__2.film.crop_size                         ScalarVector2u HDRFilm\n",
      "  elm__2.film.crop_offset                       ScalarPoint2u  HDRFilm\n",
      "  elm__2.x_fov                         ∂, D     Float          PerspectiveCamera\n",
      "  elm__2.principal_point_offset_x      ∂, D     Float          PerspectiveCamera\n",
      "  elm__2.principal_point_offset_y      ∂, D     Float          PerspectiveCamera\n",
      "  elm__2.to_world                      ∂, D     Transform4f    PerspectiveCamera\n",
      "  elm__4.silhouette_sampling_weight             float          PLYMesh\n",
      "  elm__4.faces                                  UInt           PLYMesh\n",
      "  elm__4.vertex_positions              ∂, D     Float          PLYMesh\n",
      "  elm__4.vertex_normals                ∂, D     Float          PLYMesh\n",
      "  elm__4.vertex_texcoords              ∂        Float          PLYMesh\n",
      "]\n"
     ]
    }
   ],
   "source": [
    "print(\"params\", params)"
   ]
  },
  {
   "cell_type": "code",
   "execution_count": 7,
   "metadata": {},
   "outputs": [],
   "source": [
    "save_to = 'ref.exr'\n",
    "spp = 64\n",
    "image = mi.render(scene, spp=spp)\n",
    "ref = mi.util.write_bitmap(save_to, mi.Bitmap(image))"
   ]
  },
  {
   "cell_type": "code",
   "execution_count": 8,
   "metadata": {},
   "outputs": [],
   "source": [
    "lr = 1e-3\n",
    "opt = mi.ad.Adam(lr=lr)"
   ]
  },
  {
   "cell_type": "code",
   "execution_count": 9,
   "metadata": {},
   "outputs": [
    {
     "data": {
      "text/plain": [
       "[(SRGBReflectanceSpectrum[\n",
       "    value = [[0.5, 0.5, 0.5]]\n",
       "  ],\n",
       "  {'value'}),\n",
       " (SurfaceBased[], {'base_color'}),\n",
       " (Scene[\n",
       "    children = [\n",
       "      SurfaceBased[],\n",
       "      EnvironmentMapEmitter[\n",
       "        filename = \"envmap.exr\",\n",
       "        res = \"[513, 256]\",\n",
       "        bsphere = BoundingSphere3fDC[\n",
       "          center = [[0.025915, 0.372239, -0.00522423]],\n",
       "          radius = [2.76019]\n",
       "        ]\n",
       "      ],\n",
       "      PathIntegrator[\n",
       "        max_depth = 8,\n",
       "        rr_depth = 5\n",
       "      ],\n",
       "      PerspectiveCamera[\n",
       "        x_fov = [39.5978],\n",
       "        near_clip = 0.1,\n",
       "        far_clip = 100,\n",
       "        film = HDRFilm[\n",
       "          size = [1920, 1080],\n",
       "          crop_size = [1920, 1080],\n",
       "          crop_offset = [0, 0],\n",
       "          sample_border = 0,\n",
       "          compensate = 0,\n",
       "          filter = GaussianFilter[stddev=0.50, radius=2.00],\n",
       "          file_format = OpenEXR,\n",
       "          pixel_format = rgb,\n",
       "          component_format = float16,\n",
       "        ],\n",
       "        sampler = IndependentSampler[\n",
       "          base_seed = 0\n",
       "          sample_count = 64\n",
       "          samples_per_wavefront = 64\n",
       "          wavefront_size = 132710400\n",
       "        ],\n",
       "        resolution = [1920, 1080],\n",
       "        shutter_open = 0,\n",
       "        shutter_open_time = 0,\n",
       "        to_world = [[-0.685921, -0.324014, -0.651558, 7.35889],\n",
       "                    [-1.03571e-07, 0.895396, -0.445272, 4.95831],\n",
       "                    [0.727676, -0.305421, -0.61417, 6.92579],\n",
       "                    [0, 0, 0, 1]]\n",
       "      ],\n",
       "      PLYMesh[\n",
       "        name = \"Plane.ply\",\n",
       "        bbox = BoundingBox3f[\n",
       "          min = [-1.67277, -1.00773, -1.68672],\n",
       "          max = [1.7246, 1.75221, 1.67627]\n",
       "        ],\n",
       "        vertex_count = 86498,\n",
       "        vertices = [2.64 MiB of vertex data],\n",
       "        face_count = 172992,\n",
       "        faces = [1.98 MiB of face data],\n",
       "        face_normals = 0\n",
       "      ]\n",
       "    ]\n",
       "  ],\n",
       "  {'bsdf-matpreview'})]"
      ]
     },
     "execution_count": 9,
     "metadata": {},
     "output_type": "execute_result"
    }
   ],
   "source": [
    "# initialize the base_color to something else\n",
    "params['bsdf-matpreview.base_color.value'] = mi.Color3f(0.5, 0.5, 0.5)\n",
    "params.update()"
   ]
  },
  {
   "cell_type": "code",
   "execution_count": null,
   "metadata": {},
   "outputs": [],
   "source": []
  }
 ],
 "metadata": {
  "kernelspec": {
   "display_name": "Python 3",
   "language": "python",
   "name": "python3"
  },
  "language_info": {
   "codemirror_mode": {
    "name": "ipython",
    "version": 3
   },
   "file_extension": ".py",
   "mimetype": "text/x-python",
   "name": "python",
   "nbconvert_exporter": "python",
   "pygments_lexer": "ipython3",
   "version": "3.10.12"
  }
 },
 "nbformat": 4,
 "nbformat_minor": 2
}
